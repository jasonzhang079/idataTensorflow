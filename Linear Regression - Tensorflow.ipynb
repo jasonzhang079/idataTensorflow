{
 "cells": [
  {
   "cell_type": "markdown",
   "metadata": {},
   "source": [
    "## Linear Model\n",
    "Linear regression is a method for finding the straight line or hyperplane that best fits a set of points, like simple example of (x, y):\n",
    "- Problem is for each x, y, there will be a pair of (W, B).\n",
    "- For 2 of (x, y), we can get the answer of (W, B)\n",
    "\n",
    "But there are thousands of (x,y), which one is correct. \n"
   ]
  },
  {
   "cell_type": "code",
   "execution_count": null,
   "metadata": {},
   "outputs": [],
   "source": []
  }
 ],
 "metadata": {
  "kernelspec": {
   "display_name": "Python 3",
   "language": "python",
   "name": "python3"
  },
  "language_info": {
   "codemirror_mode": {
    "name": "ipython",
    "version": 3
   },
   "file_extension": ".py",
   "mimetype": "text/x-python",
   "name": "python",
   "nbconvert_exporter": "python",
   "pygments_lexer": "ipython3",
   "version": "3.6.4"
  }
 },
 "nbformat": 4,
 "nbformat_minor": 2
}
