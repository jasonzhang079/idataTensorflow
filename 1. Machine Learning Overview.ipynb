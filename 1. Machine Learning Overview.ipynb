{
 "cells": [
  {
   "cell_type": "markdown",
   "metadata": {},
   "source": [
    "## What does ML do?\n",
    "ML systems learn how to combine input to produce useful predictions on never-before-seen data.\n",
    "- Supervised or Unsupervised\n",
    "    - All data is labeled and the algorithms learn to predict the output from the input data.\n",
    "    - Unsupervised: All data is unlabeled and the algorithms learn to inherent structure from the input data.\n",
    "    - Semi-supervised: Some data is labeled but most of it is unlabeled and a mixture of supervised and unsupervised techniques can be used.\n",
    "\n",
    "- Regression vs. classification\n",
    "    - A regression model predicts continuous values. For example, regression models make predictions that answer questions like the following:\n",
    "        - What is the value of a house in California?\n",
    "        - What is the probability that a user will click on this ad?\n",
    "    - A classification model predicts discrete values. For example, classification models make predictions that answer questions like the following:\n",
    "        - Is a given email message spam or not spam?\n",
    "        - Is this an image of a dog, a cat, or a hamster?\n",
    "\n",
    "Keys for beginner:\n",
    "**ML systems learn how to combine input to produce useful predictions on never-before-seen data.**\n",
    "\n",
    "REF: \n",
    "\n",
    "1.https://developers.google.com/machine-learning/crash-course/framing/ml-terminology\n",
    "2.https://machinelearningmastery.com/supervised-and-unsupervised-machine-learning-algorithms/"
   ]
  },
  {
   "cell_type": "markdown",
   "metadata": {},
   "source": [
    "<img src=\"./images/mlOverview.png\" style=\"width:600px\">"
   ]
  },
  {
   "cell_type": "markdown",
   "metadata": {},
   "source": [
    "#### Benifit to Developers \n",
    "ML will help software engineer to: \n",
    "- reduce the programming time\n",
    "- customize the product making them better for the specific groups of people (English spelling corrector -> other language)\n",
    "- solve problem which have no idea how to do by hand\n",
    "NOTE: machine change the ways you think about the problem, rather than logically and mathematically, to natural science (analyze the result of experient)\n",
    "https://developers.google.com/machine-learning/crash-course/framing/video-lecture\n"
   ]
  },
  {
   "cell_type": "markdown",
   "metadata": {},
   "source": [
    "## Model\n",
    "What is a ML model? \n",
    "- Model is the relationship between features and the label, produce useful prediction, even for the unseen data \n",
    "    - (defined by internal parameters, which are learned)\n",
    "    - Some simple models can be described with a few lines of algebra; \n",
    "    - more complex machine learning models contain such a large number of interlacing mathematical functions and parameters that they become hard to summarize mathematically\n",
    "    - However, a good machine learning approach like neural network, determines the model for you. That is, if you feed enough representative examples into the right machine learning model type, the program will determine the relationship between sepals, petals, and species. \n",
    "- The model which is essentially just a mathematical function that calculates some output given the input in the placeholder variables and the model variables.\n",
    "\n",
    "Think about classification, ML is trying to use a mathematical approach to find out the relationship between the features and labels , just like what we did when we were still a student:\n",
    "\n",
    "        f(x)=y\n",
    "        \n",
    "Example 1: Features(sepal & petal length) -> Labels (Iris species)\n",
    "\n",
    "Example 2: Features(house size) -> Labels (House Price)\n",
    "\n",
    "Ref:\n",
    "https://www.tensorflow.org/get_started/get_started_for_beginners \n",
    "https://developers.google.com/machine-learning/crash-course/\n",
    "https://www.zhihu.com/question/29271217\n"
   ]
  },
  {
   "cell_type": "markdown",
   "metadata": {},
   "source": [
    "<img src=\"./images/mlDataModel.png\" style=\"width:600px\">"
   ]
  },
  {
   "cell_type": "markdown",
   "metadata": {},
   "source": [
    "## Hypothesis\n",
    "- A hypothesis is a certain function that we believe (or hope) is similar to the true function, the target function that we want to model. In context of email spam classification, it would be the rule we came up with that allows us to separate spam from non-spam emails.\n",
    "- Model: In machine learning field, the terms hypothesis and model are often used interchangeably. In other sciences, they can have different meanings, i.e., the hypothesis would be the \"educated guess\" by the scientist, and the model would be the manifestation of this guess that can be used to test the hypothesis."
   ]
  },
  {
   "cell_type": "markdown",
   "metadata": {},
   "source": [
    "<img src=\"./images/modelOverview.png\" style=\"width:600px\">"
   ]
  },
  {
   "cell_type": "code",
   "execution_count": null,
   "metadata": {},
   "outputs": [],
   "source": []
  }
 ],
 "metadata": {
  "kernelspec": {
   "display_name": "Python 3",
   "language": "python",
   "name": "python3"
  },
  "language_info": {
   "codemirror_mode": {
    "name": "ipython",
    "version": 3
   },
   "file_extension": ".py",
   "mimetype": "text/x-python",
   "name": "python",
   "nbconvert_exporter": "python",
   "pygments_lexer": "ipython3",
   "version": "3.6.4"
  }
 },
 "nbformat": 4,
 "nbformat_minor": 2
}
